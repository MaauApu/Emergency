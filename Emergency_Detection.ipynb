{
  "nbformat": 4,
  "nbformat_minor": 0,
  "metadata": {
    "colab": {
      "name": "Emergency Detection.ipynb",
      "provenance": [],
      "collapsed_sections": [],
      "toc_visible": true,
      "authorship_tag": "ABX9TyOCs5havGJY6xlRKj4LJvtz",
      "include_colab_link": true
    },
    "kernelspec": {
      "name": "python3",
      "display_name": "Python 3"
    },
    "language_info": {
      "name": "python"
    }
  },
  "cells": [
    {
      "cell_type": "markdown",
      "metadata": {
        "id": "view-in-github",
        "colab_type": "text"
      },
      "source": [
        "<a href=\"https://colab.research.google.com/github/MaauApu/Emergency/blob/main/Emergency_Detection.ipynb\" target=\"_parent\"><img src=\"https://colab.research.google.com/assets/colab-badge.svg\" alt=\"Open In Colab\"/></a>"
      ]
    },
    {
      "cell_type": "code",
      "execution_count": 2,
      "metadata": {
        "id": "6PSC6WiPexQR"
      },
      "outputs": [],
      "source": [
        "def heartMonitor(steps,hr, temperature):\n",
        "  for p in periods: \n",
        "    if steps<100 and score(hr)==3: \n",
        "      dissmiss=notifyUser()\n",
        "      if dissmiss==true :\n",
        "        break\n",
        "      else:\n",
        "        msg=\" Unusaual pace or heart rate :\"+hr+\". Possiblity of causaulity \"\n",
        "        alert=sendalert(msg)\n",
        "    if temperature>99:\n",
        "      msg=\" High Temperture :\"+temperature+\". Possiblity of causaulity  \"\n",
        "      alert=sendalert(msg)\n",
        "    \n"
      ]
    },
    {
      "cell_type": "code",
      "source": [
        ""
      ],
      "metadata": {
        "id": "ZqCIpzKXnkwT"
      },
      "execution_count": null,
      "outputs": []
    }
  ]
}